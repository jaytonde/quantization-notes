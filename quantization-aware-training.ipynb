{
 "cells": [
  {
   "cell_type": "markdown",
   "id": "47fff167",
   "metadata": {
    "_cell_guid": "b1076dfc-b9ad-4769-8c92-a6c4dae69d19",
    "_uuid": "8f2839f25d086af736a60e9eeb907d3b93b6e0e5",
    "papermill": {
     "duration": 0.00496,
     "end_time": "2024-12-03T04:17:53.772302",
     "exception": false,
     "start_time": "2024-12-03T04:17:53.767342",
     "status": "completed"
    },
    "tags": []
   },
   "source": [
    "## Step 1 : Imports"
   ]
  },
  {
   "cell_type": "code",
   "execution_count": 1,
   "id": "dec3858a",
   "metadata": {
    "execution": {
     "iopub.execute_input": "2024-12-03T04:17:53.783588Z",
     "iopub.status.busy": "2024-12-03T04:17:53.783201Z",
     "iopub.status.idle": "2024-12-03T04:17:58.302806Z",
     "shell.execute_reply": "2024-12-03T04:17:58.301775Z"
    },
    "papermill": {
     "duration": 4.527794,
     "end_time": "2024-12-03T04:17:58.305278",
     "exception": false,
     "start_time": "2024-12-03T04:17:53.777484",
     "status": "completed"
    },
    "tags": []
   },
   "outputs": [],
   "source": [
    "import torch\n",
    "import torchvision.datasets as datasets \n",
    "import torchvision.transforms as transforms\n",
    "import torch.nn as nn\n",
    "import matplotlib.pyplot as plt\n",
    "from tqdm import tqdm\n",
    "from pathlib import Path\n",
    "import os"
   ]
  },
  {
   "cell_type": "markdown",
   "id": "43f6d28b",
   "metadata": {
    "papermill": {
     "duration": 0.004062,
     "end_time": "2024-12-03T04:17:58.313814",
     "exception": false,
     "start_time": "2024-12-03T04:17:58.309752",
     "status": "completed"
    },
    "tags": []
   },
   "source": [
    "## Step 2 : Load the MNIST dataset"
   ]
  },
  {
   "cell_type": "code",
   "execution_count": 2,
   "id": "1149d8e3",
   "metadata": {
    "execution": {
     "iopub.execute_input": "2024-12-03T04:17:58.325282Z",
     "iopub.status.busy": "2024-12-03T04:17:58.324343Z",
     "iopub.status.idle": "2024-12-03T04:17:58.335149Z",
     "shell.execute_reply": "2024-12-03T04:17:58.334336Z"
    },
    "papermill": {
     "duration": 0.019304,
     "end_time": "2024-12-03T04:17:58.337187",
     "exception": false,
     "start_time": "2024-12-03T04:17:58.317883",
     "status": "completed"
    },
    "tags": []
   },
   "outputs": [],
   "source": [
    "# Make torch deterministic\n",
    "_ = torch.manual_seed(0)"
   ]
  },
  {
   "cell_type": "code",
   "execution_count": 3,
   "id": "83fef7a8",
   "metadata": {
    "execution": {
     "iopub.execute_input": "2024-12-03T04:17:58.347881Z",
     "iopub.status.busy": "2024-12-03T04:17:58.347117Z",
     "iopub.status.idle": "2024-12-03T04:18:03.459725Z",
     "shell.execute_reply": "2024-12-03T04:18:03.458823Z"
    },
    "papermill": {
     "duration": 5.121034,
     "end_time": "2024-12-03T04:18:03.462630",
     "exception": false,
     "start_time": "2024-12-03T04:17:58.341596",
     "status": "completed"
    },
    "tags": []
   },
   "outputs": [
    {
     "name": "stdout",
     "output_type": "stream",
     "text": [
      "Downloading http://yann.lecun.com/exdb/mnist/train-images-idx3-ubyte.gz\n",
      "Failed to download (trying next):\n",
      "HTTP Error 403: Forbidden\n",
      "\n",
      "Downloading https://ossci-datasets.s3.amazonaws.com/mnist/train-images-idx3-ubyte.gz\n",
      "Downloading https://ossci-datasets.s3.amazonaws.com/mnist/train-images-idx3-ubyte.gz to ./data/MNIST/raw/train-images-idx3-ubyte.gz\n"
     ]
    },
    {
     "name": "stderr",
     "output_type": "stream",
     "text": [
      "100%|██████████| 9912422/9912422 [00:00<00:00, 16594784.93it/s]\n"
     ]
    },
    {
     "name": "stdout",
     "output_type": "stream",
     "text": [
      "Extracting ./data/MNIST/raw/train-images-idx3-ubyte.gz to ./data/MNIST/raw\n",
      "\n",
      "Downloading http://yann.lecun.com/exdb/mnist/train-labels-idx1-ubyte.gz\n",
      "Failed to download (trying next):\n",
      "HTTP Error 403: Forbidden\n",
      "\n",
      "Downloading https://ossci-datasets.s3.amazonaws.com/mnist/train-labels-idx1-ubyte.gz\n",
      "Downloading https://ossci-datasets.s3.amazonaws.com/mnist/train-labels-idx1-ubyte.gz to ./data/MNIST/raw/train-labels-idx1-ubyte.gz\n"
     ]
    },
    {
     "name": "stderr",
     "output_type": "stream",
     "text": [
      "100%|██████████| 28881/28881 [00:00<00:00, 470962.11it/s]\n"
     ]
    },
    {
     "name": "stdout",
     "output_type": "stream",
     "text": [
      "Extracting ./data/MNIST/raw/train-labels-idx1-ubyte.gz to ./data/MNIST/raw\n",
      "\n",
      "Downloading http://yann.lecun.com/exdb/mnist/t10k-images-idx3-ubyte.gz\n",
      "Failed to download (trying next):\n",
      "HTTP Error 403: Forbidden\n",
      "\n",
      "Downloading https://ossci-datasets.s3.amazonaws.com/mnist/t10k-images-idx3-ubyte.gz\n",
      "Downloading https://ossci-datasets.s3.amazonaws.com/mnist/t10k-images-idx3-ubyte.gz to ./data/MNIST/raw/t10k-images-idx3-ubyte.gz\n"
     ]
    },
    {
     "name": "stderr",
     "output_type": "stream",
     "text": [
      "100%|██████████| 1648877/1648877 [00:00<00:00, 4386207.58it/s]\n"
     ]
    },
    {
     "name": "stdout",
     "output_type": "stream",
     "text": [
      "Extracting ./data/MNIST/raw/t10k-images-idx3-ubyte.gz to ./data/MNIST/raw\n",
      "\n",
      "Downloading http://yann.lecun.com/exdb/mnist/t10k-labels-idx1-ubyte.gz\n",
      "Failed to download (trying next):\n",
      "HTTP Error 403: Forbidden\n",
      "\n",
      "Downloading https://ossci-datasets.s3.amazonaws.com/mnist/t10k-labels-idx1-ubyte.gz\n",
      "Downloading https://ossci-datasets.s3.amazonaws.com/mnist/t10k-labels-idx1-ubyte.gz to ./data/MNIST/raw/t10k-labels-idx1-ubyte.gz\n"
     ]
    },
    {
     "name": "stderr",
     "output_type": "stream",
     "text": [
      "100%|██████████| 4542/4542 [00:00<00:00, 1997748.40it/s]"
     ]
    },
    {
     "name": "stdout",
     "output_type": "stream",
     "text": [
      "Extracting ./data/MNIST/raw/t10k-labels-idx1-ubyte.gz to ./data/MNIST/raw\n",
      "\n"
     ]
    },
    {
     "name": "stderr",
     "output_type": "stream",
     "text": [
      "\n"
     ]
    }
   ],
   "source": [
    "transform = transforms.Compose([transforms.ToTensor(), transforms.Normalize((0.1307,), (0.3081,))])\n",
    "\n",
    "# Load the MNIST dataset\n",
    "mnist_trainset = datasets.MNIST(root='./data', train=True, download=True, transform=transform)\n",
    "# Create a dataloader for the training\n",
    "train_loader = torch.utils.data.DataLoader(mnist_trainset, batch_size=10, shuffle=True)\n",
    "\n",
    "# Load the MNIST test set\n",
    "mnist_testset = datasets.MNIST(root='./data', train=False, download=True, transform=transform)\n",
    "test_loader = torch.utils.data.DataLoader(mnist_testset, batch_size=10, shuffle=True)\n",
    "\n",
    "# Define the device\n",
    "device = \"cpu\""
   ]
  },
  {
   "cell_type": "markdown",
   "id": "92e33bab",
   "metadata": {
    "papermill": {
     "duration": 0.005847,
     "end_time": "2024-12-03T04:18:03.474820",
     "exception": false,
     "start_time": "2024-12-03T04:18:03.468973",
     "status": "completed"
    },
    "tags": []
   },
   "source": [
    "## Step 3 : Define the model"
   ]
  },
  {
   "cell_type": "code",
   "execution_count": 4,
   "id": "340fecd0",
   "metadata": {
    "execution": {
     "iopub.execute_input": "2024-12-03T04:18:03.488771Z",
     "iopub.status.busy": "2024-12-03T04:18:03.488380Z",
     "iopub.status.idle": "2024-12-03T04:18:03.513872Z",
     "shell.execute_reply": "2024-12-03T04:18:03.513026Z"
    },
    "papermill": {
     "duration": 0.035226,
     "end_time": "2024-12-03T04:18:03.516240",
     "exception": false,
     "start_time": "2024-12-03T04:18:03.481014",
     "status": "completed"
    },
    "tags": []
   },
   "outputs": [],
   "source": [
    "class VerySimpleNet(nn.Module):\n",
    "    def __init__(self, hidden_size_1=100, hidden_size_2=100):\n",
    "        super(VerySimpleNet,self).__init__()\n",
    "        self.quant = torch.quantization.QuantStub()\n",
    "        self.linear1 = nn.Linear(28*28, hidden_size_1) \n",
    "        self.linear2 = nn.Linear(hidden_size_1, hidden_size_2) \n",
    "        self.linear3 = nn.Linear(hidden_size_2, 10)\n",
    "        self.relu = nn.ReLU()\n",
    "        self.dequant = torch.quantization.DeQuantStub()\n",
    "\n",
    "    def forward(self, img):\n",
    "        x = img.view(-1, 28*28)\n",
    "        x = self.quant(x)\n",
    "        x = self.relu(self.linear1(x))\n",
    "        x = self.relu(self.linear2(x))\n",
    "        x = self.linear3(x)\n",
    "        x = self.dequant(x)\n",
    "        return x\n",
    "\n",
    "net = VerySimpleNet().to(device)"
   ]
  },
  {
   "cell_type": "markdown",
   "id": "b1c940dc",
   "metadata": {
    "papermill": {
     "duration": 0.005962,
     "end_time": "2024-12-03T04:18:03.528541",
     "exception": false,
     "start_time": "2024-12-03T04:18:03.522579",
     "status": "completed"
    },
    "tags": []
   },
   "source": [
    "## Step 4 : Insert min-max observers in the model"
   ]
  },
  {
   "cell_type": "code",
   "execution_count": 5,
   "id": "0034d600",
   "metadata": {
    "execution": {
     "iopub.execute_input": "2024-12-03T04:18:03.542380Z",
     "iopub.status.busy": "2024-12-03T04:18:03.541956Z",
     "iopub.status.idle": "2024-12-03T04:18:03.566753Z",
     "shell.execute_reply": "2024-12-03T04:18:03.565838Z"
    },
    "papermill": {
     "duration": 0.034462,
     "end_time": "2024-12-03T04:18:03.569105",
     "exception": false,
     "start_time": "2024-12-03T04:18:03.534643",
     "status": "completed"
    },
    "tags": []
   },
   "outputs": [
    {
     "data": {
      "text/plain": [
       "VerySimpleNet(\n",
       "  (quant): QuantStub(\n",
       "    (activation_post_process): MinMaxObserver(min_val=inf, max_val=-inf)\n",
       "  )\n",
       "  (linear1): Linear(\n",
       "    in_features=784, out_features=100, bias=True\n",
       "    (weight_fake_quant): MinMaxObserver(min_val=inf, max_val=-inf)\n",
       "    (activation_post_process): MinMaxObserver(min_val=inf, max_val=-inf)\n",
       "  )\n",
       "  (linear2): Linear(\n",
       "    in_features=100, out_features=100, bias=True\n",
       "    (weight_fake_quant): MinMaxObserver(min_val=inf, max_val=-inf)\n",
       "    (activation_post_process): MinMaxObserver(min_val=inf, max_val=-inf)\n",
       "  )\n",
       "  (linear3): Linear(\n",
       "    in_features=100, out_features=10, bias=True\n",
       "    (weight_fake_quant): MinMaxObserver(min_val=inf, max_val=-inf)\n",
       "    (activation_post_process): MinMaxObserver(min_val=inf, max_val=-inf)\n",
       "  )\n",
       "  (relu): ReLU()\n",
       "  (dequant): DeQuantStub()\n",
       ")"
      ]
     },
     "execution_count": 5,
     "metadata": {},
     "output_type": "execute_result"
    }
   ],
   "source": [
    "net.qconfig = torch.ao.quantization.default_qconfig\n",
    "net.train()\n",
    "net_quantized = torch.ao.quantization.prepare_qat(net) # Insert observers\n",
    "net_quantized"
   ]
  },
  {
   "cell_type": "markdown",
   "id": "4cc1c745",
   "metadata": {
    "papermill": {
     "duration": 0.006521,
     "end_time": "2024-12-03T04:18:03.581969",
     "exception": false,
     "start_time": "2024-12-03T04:18:03.575448",
     "status": "completed"
    },
    "tags": []
   },
   "source": [
    "## Step 5 : Train the model"
   ]
  },
  {
   "cell_type": "code",
   "execution_count": 6,
   "id": "0644867d",
   "metadata": {
    "execution": {
     "iopub.execute_input": "2024-12-03T04:18:03.596483Z",
     "iopub.status.busy": "2024-12-03T04:18:03.596071Z",
     "iopub.status.idle": "2024-12-03T04:18:44.033441Z",
     "shell.execute_reply": "2024-12-03T04:18:44.032352Z"
    },
    "papermill": {
     "duration": 40.447205,
     "end_time": "2024-12-03T04:18:44.035635",
     "exception": false,
     "start_time": "2024-12-03T04:18:03.588430",
     "status": "completed"
    },
    "tags": []
   },
   "outputs": [
    {
     "name": "stderr",
     "output_type": "stream",
     "text": [
      "Epoch 1: 100%|██████████| 6000/6000 [00:40<00:00, 148.43it/s, loss=0.224]\n"
     ]
    }
   ],
   "source": [
    "def train(train_loader, net, epochs=5, total_iterations_limit=None):\n",
    "    cross_el = nn.CrossEntropyLoss()\n",
    "    optimizer = torch.optim.Adam(net.parameters(), lr=0.001)\n",
    "\n",
    "    total_iterations = 0\n",
    "\n",
    "    for epoch in range(epochs):\n",
    "        net.train()\n",
    "\n",
    "        loss_sum = 0\n",
    "        num_iterations = 0\n",
    "\n",
    "        data_iterator = tqdm(train_loader, desc=f'Epoch {epoch+1}')\n",
    "        if total_iterations_limit is not None:\n",
    "            data_iterator.total = total_iterations_limit\n",
    "        for data in data_iterator:\n",
    "            num_iterations += 1\n",
    "            total_iterations += 1\n",
    "            x, y = data\n",
    "            x = x.to(device)\n",
    "            y = y.to(device)\n",
    "            optimizer.zero_grad()\n",
    "            output = net(x.view(-1, 28*28))\n",
    "            loss = cross_el(output, y)\n",
    "            loss_sum += loss.item()\n",
    "            avg_loss = loss_sum / num_iterations\n",
    "            data_iterator.set_postfix(loss=avg_loss)\n",
    "            loss.backward()\n",
    "            optimizer.step()\n",
    "\n",
    "            if total_iterations_limit is not None and total_iterations >= total_iterations_limit:\n",
    "                return\n",
    "\n",
    "def print_size_of_model(model):\n",
    "    torch.save(model.state_dict(), \"temp_delme.p\")\n",
    "    print('Size (KB):', os.path.getsize(\"temp_delme.p\")/1e3)\n",
    "    os.remove('temp_delme.p')\n",
    "\n",
    "train(train_loader, net_quantized, epochs=1)"
   ]
  },
  {
   "cell_type": "markdown",
   "id": "188d4f0a",
   "metadata": {
    "papermill": {
     "duration": 0.337765,
     "end_time": "2024-12-03T04:18:44.778791",
     "exception": false,
     "start_time": "2024-12-03T04:18:44.441026",
     "status": "completed"
    },
    "tags": []
   },
   "source": [
    "## Step 6 : Define the testing loop"
   ]
  },
  {
   "cell_type": "code",
   "execution_count": 7,
   "id": "3031f4b6",
   "metadata": {
    "execution": {
     "iopub.execute_input": "2024-12-03T04:18:45.451796Z",
     "iopub.status.busy": "2024-12-03T04:18:45.451422Z",
     "iopub.status.idle": "2024-12-03T04:18:45.458424Z",
     "shell.execute_reply": "2024-12-03T04:18:45.457473Z"
    },
    "papermill": {
     "duration": 0.344157,
     "end_time": "2024-12-03T04:18:45.460338",
     "exception": false,
     "start_time": "2024-12-03T04:18:45.116181",
     "status": "completed"
    },
    "tags": []
   },
   "outputs": [],
   "source": [
    "def test(model: nn.Module, total_iterations: int = None):\n",
    "    correct = 0\n",
    "    total = 0\n",
    "\n",
    "    iterations = 0\n",
    "\n",
    "    model.eval()\n",
    "\n",
    "    with torch.no_grad():\n",
    "        for data in tqdm(test_loader, desc='Testing'):\n",
    "            x, y = data\n",
    "            x = x.to(device)\n",
    "            y = y.to(device)\n",
    "            output = model(x.view(-1, 784))\n",
    "            for idx, i in enumerate(output):\n",
    "                if torch.argmax(i) == y[idx]:\n",
    "                    correct +=1\n",
    "                total +=1\n",
    "            iterations += 1\n",
    "            if total_iterations is not None and iterations >= total_iterations:\n",
    "                break\n",
    "    print(f'Accuracy: {round(correct/total, 3)}')"
   ]
  },
  {
   "cell_type": "code",
   "execution_count": 8,
   "id": "172e6c61",
   "metadata": {
    "execution": {
     "iopub.execute_input": "2024-12-03T04:18:46.192655Z",
     "iopub.status.busy": "2024-12-03T04:18:46.192252Z",
     "iopub.status.idle": "2024-12-03T04:18:49.827351Z",
     "shell.execute_reply": "2024-12-03T04:18:49.826477Z"
    },
    "papermill": {
     "duration": 3.979044,
     "end_time": "2024-12-03T04:18:49.830191",
     "exception": false,
     "start_time": "2024-12-03T04:18:45.851147",
     "status": "completed"
    },
    "tags": []
   },
   "outputs": [
    {
     "name": "stderr",
     "output_type": "stream",
     "text": [
      "Testing: 100%|██████████| 1000/1000 [00:03<00:00, 275.92it/s]"
     ]
    },
    {
     "name": "stdout",
     "output_type": "stream",
     "text": [
      "Accuracy: 0.96\n"
     ]
    },
    {
     "name": "stderr",
     "output_type": "stream",
     "text": [
      "\n"
     ]
    }
   ],
   "source": [
    "test(net_quantized)"
   ]
  },
  {
   "cell_type": "markdown",
   "id": "1bdef340",
   "metadata": {
    "papermill": {
     "duration": 0.338796,
     "end_time": "2024-12-03T04:18:50.573517",
     "exception": false,
     "start_time": "2024-12-03T04:18:50.234721",
     "status": "completed"
    },
    "tags": []
   },
   "source": [
    "## Step 7 : Check the collected statistics during training"
   ]
  },
  {
   "cell_type": "code",
   "execution_count": 9,
   "id": "ff4a216e",
   "metadata": {
    "execution": {
     "iopub.execute_input": "2024-12-03T04:18:51.308180Z",
     "iopub.status.busy": "2024-12-03T04:18:51.307751Z",
     "iopub.status.idle": "2024-12-03T04:18:51.315713Z",
     "shell.execute_reply": "2024-12-03T04:18:51.314759Z"
    },
    "papermill": {
     "duration": 0.350187,
     "end_time": "2024-12-03T04:18:51.317650",
     "exception": false,
     "start_time": "2024-12-03T04:18:50.967463",
     "status": "completed"
    },
    "tags": []
   },
   "outputs": [
    {
     "name": "stdout",
     "output_type": "stream",
     "text": [
      "Check statistics of the various layers\n"
     ]
    },
    {
     "data": {
      "text/plain": [
       "VerySimpleNet(\n",
       "  (quant): QuantStub(\n",
       "    (activation_post_process): MinMaxObserver(min_val=-0.4242129623889923, max_val=2.821486711502075)\n",
       "  )\n",
       "  (linear1): Linear(\n",
       "    in_features=784, out_features=100, bias=True\n",
       "    (weight_fake_quant): MinMaxObserver(min_val=-0.5399653315544128, max_val=0.3214324116706848)\n",
       "    (activation_post_process): MinMaxObserver(min_val=-43.809295654296875, max_val=42.24278259277344)\n",
       "  )\n",
       "  (linear2): Linear(\n",
       "    in_features=100, out_features=100, bias=True\n",
       "    (weight_fake_quant): MinMaxObserver(min_val=-0.4697294235229492, max_val=0.3263527452945709)\n",
       "    (activation_post_process): MinMaxObserver(min_val=-38.33944320678711, max_val=20.966848373413086)\n",
       "  )\n",
       "  (linear3): Linear(\n",
       "    in_features=100, out_features=10, bias=True\n",
       "    (weight_fake_quant): MinMaxObserver(min_val=-0.47022685408592224, max_val=0.2074681520462036)\n",
       "    (activation_post_process): MinMaxObserver(min_val=-30.27816390991211, max_val=22.78417205810547)\n",
       "  )\n",
       "  (relu): ReLU()\n",
       "  (dequant): DeQuantStub()\n",
       ")"
      ]
     },
     "execution_count": 9,
     "metadata": {},
     "output_type": "execute_result"
    }
   ],
   "source": [
    "print(f'Check statistics of the various layers')\n",
    "net_quantized"
   ]
  },
  {
   "cell_type": "markdown",
   "id": "cadf8c37",
   "metadata": {
    "papermill": {
     "duration": 0.334186,
     "end_time": "2024-12-03T04:18:51.981512",
     "exception": false,
     "start_time": "2024-12-03T04:18:51.647326",
     "status": "completed"
    },
    "tags": []
   },
   "source": [
    "## Step 8 : Quantize the model using the statistics collected"
   ]
  },
  {
   "cell_type": "code",
   "execution_count": 10,
   "id": "cb538d1c",
   "metadata": {
    "execution": {
     "iopub.execute_input": "2024-12-03T04:18:52.708465Z",
     "iopub.status.busy": "2024-12-03T04:18:52.707752Z",
     "iopub.status.idle": "2024-12-03T04:18:52.738817Z",
     "shell.execute_reply": "2024-12-03T04:18:52.737920Z"
    },
    "papermill": {
     "duration": 0.36843,
     "end_time": "2024-12-03T04:18:52.741173",
     "exception": false,
     "start_time": "2024-12-03T04:18:52.372743",
     "status": "completed"
    },
    "tags": []
   },
   "outputs": [],
   "source": [
    "net_quantized.eval()\n",
    "net_quantized = torch.ao.quantization.convert(net_quantized)"
   ]
  },
  {
   "cell_type": "code",
   "execution_count": 11,
   "id": "aa69ab25",
   "metadata": {
    "execution": {
     "iopub.execute_input": "2024-12-03T04:18:53.471453Z",
     "iopub.status.busy": "2024-12-03T04:18:53.471022Z",
     "iopub.status.idle": "2024-12-03T04:18:53.502802Z",
     "shell.execute_reply": "2024-12-03T04:18:53.501720Z"
    },
    "papermill": {
     "duration": 0.426924,
     "end_time": "2024-12-03T04:18:53.504820",
     "exception": false,
     "start_time": "2024-12-03T04:18:53.077896",
     "status": "completed"
    },
    "tags": []
   },
   "outputs": [
    {
     "name": "stdout",
     "output_type": "stream",
     "text": [
      "Check statistics of the various layers\n"
     ]
    },
    {
     "data": {
      "text/plain": [
       "VerySimpleNet(\n",
       "  (quant): Quantize(scale=tensor([0.0256]), zero_point=tensor([17]), dtype=torch.quint8)\n",
       "  (linear1): QuantizedLinear(in_features=784, out_features=100, scale=0.677575409412384, zero_point=65, qscheme=torch.per_tensor_affine)\n",
       "  (linear2): QuantizedLinear(in_features=100, out_features=100, scale=0.46697866916656494, zero_point=82, qscheme=torch.per_tensor_affine)\n",
       "  (linear3): QuantizedLinear(in_features=100, out_features=10, scale=0.41781365871429443, zero_point=72, qscheme=torch.per_tensor_affine)\n",
       "  (relu): ReLU()\n",
       "  (dequant): DeQuantize()\n",
       ")"
      ]
     },
     "execution_count": 11,
     "metadata": {},
     "output_type": "execute_result"
    }
   ],
   "source": [
    "print(f'Check statistics of the various layers')\n",
    "net_quantized"
   ]
  },
  {
   "cell_type": "markdown",
   "id": "e76a9154",
   "metadata": {
    "papermill": {
     "duration": 0.337004,
     "end_time": "2024-12-03T04:18:54.175579",
     "exception": false,
     "start_time": "2024-12-03T04:18:53.838575",
     "status": "completed"
    },
    "tags": []
   },
   "source": [
    "## Step 9 : Print weights and size of the model after quantization"
   ]
  },
  {
   "cell_type": "code",
   "execution_count": 12,
   "id": "fbd13318",
   "metadata": {
    "execution": {
     "iopub.execute_input": "2024-12-03T04:18:54.847727Z",
     "iopub.status.busy": "2024-12-03T04:18:54.847346Z",
     "iopub.status.idle": "2024-12-03T04:18:54.857863Z",
     "shell.execute_reply": "2024-12-03T04:18:54.856730Z"
    },
    "papermill": {
     "duration": 0.349503,
     "end_time": "2024-12-03T04:18:54.859881",
     "exception": false,
     "start_time": "2024-12-03T04:18:54.510378",
     "status": "completed"
    },
    "tags": []
   },
   "outputs": [
    {
     "name": "stdout",
     "output_type": "stream",
     "text": [
      "Weights before quantization\n",
      "tensor([[ 5,  9, -2,  ..., 10,  6,  5],\n",
      "        [-7, -6, -4,  ..., -7, -3, -9],\n",
      "        [ 0,  9, -3,  ...,  0,  5,  7],\n",
      "        ...,\n",
      "        [ 5,  6, -2,  ..., -3,  1, -8],\n",
      "        [-3, -1,  7,  ...,  2,  2,  2],\n",
      "        [ 2,  1, -3,  ...,  6, -6, -1]], dtype=torch.int8)\n"
     ]
    }
   ],
   "source": [
    "# Print the weights matrix of the model before quantization\n",
    "print('Weights before quantization')\n",
    "print(torch.int_repr(net_quantized.linear1.weight()))"
   ]
  },
  {
   "cell_type": "code",
   "execution_count": 13,
   "id": "b1a17592",
   "metadata": {
    "execution": {
     "iopub.execute_input": "2024-12-03T04:18:55.593639Z",
     "iopub.status.busy": "2024-12-03T04:18:55.593248Z",
     "iopub.status.idle": "2024-12-03T04:18:58.672136Z",
     "shell.execute_reply": "2024-12-03T04:18:58.671131Z"
    },
    "papermill": {
     "duration": 3.422046,
     "end_time": "2024-12-03T04:18:58.675112",
     "exception": false,
     "start_time": "2024-12-03T04:18:55.253066",
     "status": "completed"
    },
    "tags": []
   },
   "outputs": [
    {
     "name": "stdout",
     "output_type": "stream",
     "text": [
      "Testing the model after quantization\n"
     ]
    },
    {
     "name": "stderr",
     "output_type": "stream",
     "text": [
      "Testing: 100%|██████████| 1000/1000 [00:03<00:00, 325.66it/s]"
     ]
    },
    {
     "name": "stdout",
     "output_type": "stream",
     "text": [
      "Accuracy: 0.96\n"
     ]
    },
    {
     "name": "stderr",
     "output_type": "stream",
     "text": [
      "\n"
     ]
    }
   ],
   "source": [
    "print('Testing the model after quantization')\n",
    "test(net_quantized)"
   ]
  },
  {
   "cell_type": "code",
   "execution_count": null,
   "id": "1ae5d521",
   "metadata": {
    "papermill": {
     "duration": 0.388792,
     "end_time": "2024-12-03T04:18:59.399378",
     "exception": false,
     "start_time": "2024-12-03T04:18:59.010586",
     "status": "completed"
    },
    "tags": []
   },
   "outputs": [],
   "source": []
  }
 ],
 "metadata": {
  "kaggle": {
   "accelerator": "none",
   "dataSources": [
    {
     "databundleVersionId": 10033515,
     "sourceId": 84969,
     "sourceType": "competition"
    }
   ],
   "dockerImageVersionId": 30804,
   "isGpuEnabled": false,
   "isInternetEnabled": true,
   "language": "python",
   "sourceType": "notebook"
  },
  "kernelspec": {
   "display_name": "Python 3",
   "language": "python",
   "name": "python3"
  },
  "language_info": {
   "codemirror_mode": {
    "name": "ipython",
    "version": 3
   },
   "file_extension": ".py",
   "mimetype": "text/x-python",
   "name": "python",
   "nbconvert_exporter": "python",
   "pygments_lexer": "ipython3",
   "version": "3.10.14"
  },
  "papermill": {
   "default_parameters": {},
   "duration": 69.655907,
   "end_time": "2024-12-03T04:19:00.755823",
   "environment_variables": {},
   "exception": null,
   "input_path": "__notebook__.ipynb",
   "output_path": "__notebook__.ipynb",
   "parameters": {},
   "start_time": "2024-12-03T04:17:51.099916",
   "version": "2.6.0"
  }
 },
 "nbformat": 4,
 "nbformat_minor": 5
}
