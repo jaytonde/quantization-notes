{
 "cells": [
  {
   "cell_type": "markdown",
   "id": "4bfe66b9",
   "metadata": {
    "_cell_guid": "b1076dfc-b9ad-4769-8c92-a6c4dae69d19",
    "_uuid": "8f2839f25d086af736a60e9eeb907d3b93b6e0e5",
    "papermill": {
     "duration": 0.003645,
     "end_time": "2024-12-02T16:50:55.529382",
     "exception": false,
     "start_time": "2024-12-02T16:50:55.525737",
     "status": "completed"
    },
    "tags": []
   },
   "source": [
    "## Step 1 : Create a simple tensor with random items"
   ]
  },
  {
   "cell_type": "code",
   "execution_count": 1,
   "id": "b610ee4a",
   "metadata": {
    "execution": {
     "iopub.execute_input": "2024-12-02T16:50:55.537075Z",
     "iopub.status.busy": "2024-12-02T16:50:55.536636Z",
     "iopub.status.idle": "2024-12-02T16:50:55.549823Z",
     "shell.execute_reply": "2024-12-02T16:50:55.548477Z"
    },
    "papermill": {
     "duration": 0.019338,
     "end_time": "2024-12-02T16:50:55.551953",
     "exception": false,
     "start_time": "2024-12-02T16:50:55.532615",
     "status": "completed"
    },
    "tags": []
   },
   "outputs": [
    {
     "name": "stdout",
     "output_type": "stream",
     "text": [
      "[ 141.8   123.22   81.22 ...   47.25   70.76 1000.  ]\n"
     ]
    }
   ],
   "source": [
    "import numpy as np\n",
    "\n",
    "# Suppress scientific notation\n",
    "np.set_printoptions(suppress=True)\n",
    "\n",
    "# Generate randomly distributed parameters\n",
    "params = np.random.uniform(low=-50, high=150, size=10000)\n",
    "\n",
    "# Make sure important values are at the beginning for better debugging\n",
    "params[-1] = 1000\n",
    "\n",
    "# Round each number to the second decimal place\n",
    "params = np.round(params, 2)\n",
    "\n",
    "# Print the parameters\n",
    "print(params)"
   ]
  },
  {
   "cell_type": "markdown",
   "id": "1d7df29a",
   "metadata": {
    "papermill": {
     "duration": 0.002439,
     "end_time": "2024-12-02T16:50:55.557357",
     "exception": false,
     "start_time": "2024-12-02T16:50:55.554918",
     "status": "completed"
    },
    "tags": []
   },
   "source": [
    "## Step 2 : Define the quantization methods and quantize"
   ]
  },
  {
   "cell_type": "code",
   "execution_count": 2,
   "id": "ed149f69",
   "metadata": {
    "execution": {
     "iopub.execute_input": "2024-12-02T16:50:55.564268Z",
     "iopub.status.busy": "2024-12-02T16:50:55.563907Z",
     "iopub.status.idle": "2024-12-02T16:50:55.575869Z",
     "shell.execute_reply": "2024-12-02T16:50:55.574836Z"
    },
    "papermill": {
     "duration": 0.01815,
     "end_time": "2024-12-02T16:50:55.578198",
     "exception": false,
     "start_time": "2024-12-02T16:50:55.560048",
     "status": "completed"
    },
    "tags": []
   },
   "outputs": [],
   "source": [
    "def clamp(params_q: np.array, lower_bound: int, upper_bound: int) -> np.array:\n",
    "    params_q[params_q < lower_bound] = lower_bound\n",
    "    params_q[params_q > upper_bound] = upper_bound\n",
    "    return params_q\n",
    "\n",
    "def asymmetric_quantization(params: np.array, bits: int) -> tuple[np.array, float, int]:\n",
    "    # Calculate the scale and zero point\n",
    "    alpha                    = np.max(params)\n",
    "    beta                     = np.min(params)\n",
    "    scale                    = (alpha - beta) / (2**bits-1)\n",
    "    zero                     = -1*np.round(beta / scale)\n",
    "    lower_bound, upper_bound = 0, 2**bits-1\n",
    "    # Quantize the parameters\n",
    "    quantized                = clamp(np.round(params / scale + zero), lower_bound, upper_bound).astype(np.int32)\n",
    "    return quantized, scale, zero\n",
    "\n",
    "def asymmetric_quantization_percentile(params: np.array, bits: int, percentile: float = 99.99) -> tuple[np.array, float, int]:\n",
    "    # find the percentile value\n",
    "    alpha = np.percentile(params, percentile)\n",
    "    beta = np.percentile(params, 100-percentile)\n",
    "    scale = (alpha - beta) / (2**bits-1)\n",
    "    zero = -1*np.round(beta / scale)\n",
    "    lower_bound, upper_bound = 0, 2**bits-1\n",
    "    quantized = clamp(np.round(params / scale + zero), lower_bound, upper_bound).astype(np.int32)\n",
    "    return quantized, scale, zero\n",
    "\n",
    "def asymmetric_dequantize(params_q: np.array, scale: float, zero: int) -> np.array:\n",
    "    return (params_q - zero) * scale\n",
    "\n",
    "def symmetric_dequantize(params_q: np.array, scale: float) -> np.array:\n",
    "    return params_q * scale\n",
    "\n",
    "def symmetric_quantization(params: np.array, bits: int) -> tuple[np.array, float]:\n",
    "    # Calculate the scale\n",
    "    alpha       = np.max(np.abs(params))\n",
    "    scale       = alpha / (2**(bits-1)-1)\n",
    "    lower_bound = -2**(bits-1)\n",
    "    upper_bound = 2**(bits-1)-1\n",
    "    # Quantize the parameters\n",
    "    quantized   = clamp(np.round(params / scale), lower_bound, upper_bound).astype(np.int32)\n",
    "    return quantized, scale\n",
    "\n",
    "def quantization_error(params: np.array, params_q: np.array):\n",
    "    # calculate the MSE\n",
    "    return np.mean((params - params_q)**2)"
   ]
  },
  {
   "cell_type": "code",
   "execution_count": 3,
   "id": "9a13813f",
   "metadata": {
    "execution": {
     "iopub.execute_input": "2024-12-02T16:50:55.585545Z",
     "iopub.status.busy": "2024-12-02T16:50:55.585144Z",
     "iopub.status.idle": "2024-12-02T16:50:55.596958Z",
     "shell.execute_reply": "2024-12-02T16:50:55.595811Z"
    },
    "papermill": {
     "duration": 0.018196,
     "end_time": "2024-12-02T16:50:55.599331",
     "exception": false,
     "start_time": "2024-12-02T16:50:55.581135",
     "status": "completed"
    },
    "tags": []
   },
   "outputs": [
    {
     "name": "stdout",
     "output_type": "stream",
     "text": [
      "Original:\n",
      "[ 141.8   123.22   81.22 ...   47.25   70.76 1000.  ]\n",
      "\n",
      "Asymmetric (min-max) scale: 4.11756862745098, zero: 12.0\n",
      "[ 46  42  32 ...  23  29 255]\n",
      "\n",
      "Asymmetric (percentile) scale: 0.7842941450956816, zero: 64.0\n",
      "[245 221 168 ... 124 154 255]\n"
     ]
    }
   ],
   "source": [
    "(asymmetric_q, asymmetric_scale, asymmetric_zero) = asymmetric_quantization(params, 8)\n",
    "(asymmetric_q_percentile, asymmetric_scale_percentile, asymmetric_zero_percentile) = asymmetric_quantization_percentile(params, 8)\n",
    "\n",
    "print(f'Original:')\n",
    "print(np.round(params, 2))\n",
    "print('')\n",
    "print(f'Asymmetric (min-max) scale: {asymmetric_scale}, zero: {asymmetric_zero}')\n",
    "print(asymmetric_q)\n",
    "print(f'')\n",
    "print(f'Asymmetric (percentile) scale: {asymmetric_scale_percentile}, zero: {asymmetric_zero_percentile}')\n",
    "print(asymmetric_q_percentile)"
   ]
  },
  {
   "cell_type": "markdown",
   "id": "089e0f86",
   "metadata": {
    "papermill": {
     "duration": 0.002667,
     "end_time": "2024-12-02T16:50:55.604977",
     "exception": false,
     "start_time": "2024-12-02T16:50:55.602310",
     "status": "completed"
    },
    "tags": []
   },
   "source": [
    "## Step 3 : Dequantize them back"
   ]
  },
  {
   "cell_type": "code",
   "execution_count": 4,
   "id": "dcf2c72d",
   "metadata": {
    "execution": {
     "iopub.execute_input": "2024-12-02T16:50:55.612174Z",
     "iopub.status.busy": "2024-12-02T16:50:55.611792Z",
     "iopub.status.idle": "2024-12-02T16:50:55.620739Z",
     "shell.execute_reply": "2024-12-02T16:50:55.619533Z"
    },
    "papermill": {
     "duration": 0.015285,
     "end_time": "2024-12-02T16:50:55.623055",
     "exception": false,
     "start_time": "2024-12-02T16:50:55.607770",
     "status": "completed"
    },
    "tags": []
   },
   "outputs": [
    {
     "name": "stdout",
     "output_type": "stream",
     "text": [
      "Original:\n",
      "[ 141.8   123.22   81.22 ...   47.25   70.76 1000.  ]\n",
      "\n",
      "Dequantized (min-max):\n",
      "[ 140.    123.53   82.35 ...   45.29   70.   1000.57]\n",
      "\n",
      "Dequantized (percentile):\n",
      "[141.96 123.13  81.57 ...  47.06  70.59 149.8 ]\n"
     ]
    }
   ],
   "source": [
    "# Dequantize the parameters back to 32 bits\n",
    "params_deq_asymmetric = asymmetric_dequantize(asymmetric_q, asymmetric_scale, asymmetric_zero)\n",
    "params_deq_asymmetric_percentile = asymmetric_dequantize(asymmetric_q_percentile, asymmetric_scale_percentile, asymmetric_zero_percentile)\n",
    "\n",
    "print(f'Original:')\n",
    "print(np.round(params, 2))\n",
    "print('')\n",
    "print(f'Dequantized (min-max):')\n",
    "print(np.round(params_deq_asymmetric,2))\n",
    "print('')\n",
    "print(f'Dequantized (percentile):')\n",
    "print(np.round(params_deq_asymmetric_percentile,2))"
   ]
  },
  {
   "cell_type": "markdown",
   "id": "1c64b10b",
   "metadata": {
    "papermill": {
     "duration": 0.002736,
     "end_time": "2024-12-02T16:50:55.628810",
     "exception": false,
     "start_time": "2024-12-02T16:50:55.626074",
     "status": "completed"
    },
    "tags": []
   },
   "source": [
    "## Step 4 : Quantization error"
   ]
  },
  {
   "cell_type": "code",
   "execution_count": 5,
   "id": "a995be0f",
   "metadata": {
    "execution": {
     "iopub.execute_input": "2024-12-02T16:50:55.636370Z",
     "iopub.status.busy": "2024-12-02T16:50:55.635839Z",
     "iopub.status.idle": "2024-12-02T16:50:55.642804Z",
     "shell.execute_reply": "2024-12-02T16:50:55.641599Z"
    },
    "papermill": {
     "duration": 0.013367,
     "end_time": "2024-12-02T16:50:55.645055",
     "exception": false,
     "start_time": "2024-12-02T16:50:55.631688",
     "status": "completed"
    },
    "tags": []
   },
   "outputs": [
    {
     "name": "stdout",
     "output_type": "stream",
     "text": [
      "     Error (min-max) excluding outlier: 1.38\n",
      "  Error (percentile) excluding outlier: 0.05\n"
     ]
    }
   ],
   "source": [
    "# Calculate the quantization error\n",
    "print(f'{\"Error (min-max) excluding outlier: \":>40}{np.round(quantization_error(params[:-1], params_deq_asymmetric[:-1]),2)}')\n",
    "print(f'{\"Error (percentile) excluding outlier: \":>40}{np.round(quantization_error(params[:-1], params_deq_asymmetric_percentile[:-1]),2)}')"
   ]
  },
  {
   "cell_type": "code",
   "execution_count": null,
   "id": "b4a6b12d",
   "metadata": {
    "papermill": {
     "duration": 0.0028,
     "end_time": "2024-12-02T16:50:55.650871",
     "exception": false,
     "start_time": "2024-12-02T16:50:55.648071",
     "status": "completed"
    },
    "tags": []
   },
   "outputs": [],
   "source": []
  }
 ],
 "metadata": {
  "kaggle": {
   "accelerator": "none",
   "dataSources": [
    {
     "databundleVersionId": 10033515,
     "sourceId": 84969,
     "sourceType": "competition"
    }
   ],
   "dockerImageVersionId": 30786,
   "isGpuEnabled": false,
   "isInternetEnabled": true,
   "language": "python",
   "sourceType": "notebook"
  },
  "kernelspec": {
   "display_name": "Python 3",
   "language": "python",
   "name": "python3"
  },
  "language_info": {
   "codemirror_mode": {
    "name": "ipython",
    "version": 3
   },
   "file_extension": ".py",
   "mimetype": "text/x-python",
   "name": "python",
   "nbconvert_exporter": "python",
   "pygments_lexer": "ipython3",
   "version": "3.10.14"
  },
  "papermill": {
   "default_parameters": {},
   "duration": 3.215715,
   "end_time": "2024-12-02T16:50:56.074400",
   "environment_variables": {},
   "exception": null,
   "input_path": "__notebook__.ipynb",
   "output_path": "__notebook__.ipynb",
   "parameters": {},
   "start_time": "2024-12-02T16:50:52.858685",
   "version": "2.6.0"
  }
 },
 "nbformat": 4,
 "nbformat_minor": 5
}
