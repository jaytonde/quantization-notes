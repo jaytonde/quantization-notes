{
 "cells": [
  {
   "cell_type": "markdown",
   "id": "1d720c44",
   "metadata": {
    "_cell_guid": "b1076dfc-b9ad-4769-8c92-a6c4dae69d19",
    "_uuid": "8f2839f25d086af736a60e9eeb907d3b93b6e0e5",
    "papermill": {
     "duration": 0.00365,
     "end_time": "2024-12-02T16:22:41.132046",
     "exception": false,
     "start_time": "2024-12-02T16:22:41.128396",
     "status": "completed"
    },
    "tags": []
   },
   "source": [
    "## Step 1 : Create a simple tensor with random items"
   ]
  },
  {
   "cell_type": "code",
   "execution_count": 1,
   "id": "55b4e448",
   "metadata": {
    "execution": {
     "iopub.execute_input": "2024-12-02T16:22:41.139828Z",
     "iopub.status.busy": "2024-12-02T16:22:41.139305Z",
     "iopub.status.idle": "2024-12-02T16:22:41.152829Z",
     "shell.execute_reply": "2024-12-02T16:22:41.151660Z"
    },
    "papermill": {
     "duration": 0.019659,
     "end_time": "2024-12-02T16:22:41.154876",
     "exception": false,
     "start_time": "2024-12-02T16:22:41.135217",
     "status": "completed"
    },
    "tags": []
   },
   "outputs": [
    {
     "name": "stdout",
     "output_type": "stream",
     "text": [
      "[120.7  -28.11   0.    57.36  69.31 118.77  83.29  15.46 -27.11  87.43\n",
      "  92.15 109.84  93.99  41.57  48.05 119.7  -20.97 -10.14 -19.4   15.34]\n"
     ]
    }
   ],
   "source": [
    "import numpy as np\n",
    "\n",
    "# Suppress scientific notation\n",
    "np.set_printoptions(suppress=True)\n",
    "\n",
    "# Generate randomly distributed parameters\n",
    "params = np.random.uniform(low=-50, high=150, size=20)\n",
    "\n",
    "# Make sure important values are at the beginning for better debugging\n",
    "params[0] = params.max() + 1\n",
    "params[1] = params.min() - 1\n",
    "params[2] = 0\n",
    "\n",
    "# Round each number to the second decimal place\n",
    "params = np.round(params, 2)\n",
    "\n",
    "# Print the parameters\n",
    "print(params)"
   ]
  },
  {
   "cell_type": "markdown",
   "id": "897a92a3",
   "metadata": {
    "papermill": {
     "duration": 0.002317,
     "end_time": "2024-12-02T16:22:41.160262",
     "exception": false,
     "start_time": "2024-12-02T16:22:41.157945",
     "status": "completed"
    },
    "tags": []
   },
   "source": [
    "## Step 2 : Define the quantization methods and quantize"
   ]
  },
  {
   "cell_type": "code",
   "execution_count": 2,
   "id": "0fa4c34a",
   "metadata": {
    "execution": {
     "iopub.execute_input": "2024-12-02T16:22:41.167041Z",
     "iopub.status.busy": "2024-12-02T16:22:41.166400Z",
     "iopub.status.idle": "2024-12-02T16:22:41.176038Z",
     "shell.execute_reply": "2024-12-02T16:22:41.175171Z"
    },
    "papermill": {
     "duration": 0.015533,
     "end_time": "2024-12-02T16:22:41.178199",
     "exception": false,
     "start_time": "2024-12-02T16:22:41.162666",
     "status": "completed"
    },
    "tags": []
   },
   "outputs": [],
   "source": [
    "def clamp(params_q: np.array, lower_bound: int, upper_bound: int) -> np.array:\n",
    "    params_q[params_q < lower_bound] = lower_bound\n",
    "    params_q[params_q > upper_bound] = upper_bound\n",
    "    return params_q\n",
    "\n",
    "def asymmetric_quantization(params: np.array, bits: int) -> tuple[np.array, float, int]:\n",
    "    # Calculate the scale and zero point\n",
    "    alpha                    = np.max(params)\n",
    "    beta                     = np.min(params)\n",
    "    scale                    = (alpha - beta) / (2**bits-1)\n",
    "    zero                     = -1*np.round(beta / scale)\n",
    "    lower_bound, upper_bound = 0, 2**bits-1\n",
    "    # Quantize the parameters\n",
    "    quantized                = clamp(np.round(params / scale + zero), lower_bound, upper_bound).astype(np.int32)\n",
    "    return quantized, scale, zero\n",
    "\n",
    "def asymmetric_dequantize(params_q: np.array, scale: float, zero: int) -> np.array:\n",
    "    return (params_q - zero) * scale\n",
    "\n",
    "def symmetric_dequantize(params_q: np.array, scale: float) -> np.array:\n",
    "    return params_q * scale\n",
    "\n",
    "def symmetric_quantization(params: np.array, bits: int) -> tuple[np.array, float]:\n",
    "    # Calculate the scale\n",
    "    alpha       = np.max(np.abs(params))\n",
    "    scale       = alpha / (2**(bits-1)-1)\n",
    "    lower_bound = -2**(bits-1)\n",
    "    upper_bound = 2**(bits-1)-1\n",
    "    # Quantize the parameters\n",
    "    quantized   = clamp(np.round(params / scale), lower_bound, upper_bound).astype(np.int32)\n",
    "    return quantized, scale\n",
    "\n",
    "def quantization_error(params: np.array, params_q: np.array):\n",
    "    # calculate the MSE\n",
    "    return np.mean((params - params_q)**2)"
   ]
  },
  {
   "cell_type": "code",
   "execution_count": 3,
   "id": "94b1bc4f",
   "metadata": {
    "execution": {
     "iopub.execute_input": "2024-12-02T16:22:41.185174Z",
     "iopub.status.busy": "2024-12-02T16:22:41.184808Z",
     "iopub.status.idle": "2024-12-02T16:22:41.194202Z",
     "shell.execute_reply": "2024-12-02T16:22:41.193049Z"
    },
    "papermill": {
     "duration": 0.015269,
     "end_time": "2024-12-02T16:22:41.196299",
     "exception": false,
     "start_time": "2024-12-02T16:22:41.181030",
     "status": "completed"
    },
    "tags": []
   },
   "outputs": [
    {
     "name": "stdout",
     "output_type": "stream",
     "text": [
      "Original:\n",
      "[120.7  -28.11   0.    57.36  69.31 118.77  83.29  15.46 -27.11  87.43\n",
      "  92.15 109.84  93.99  41.57  48.05 119.7  -20.97 -10.14 -19.4   15.34]\n",
      "\n",
      "Asymmetric scale: 0.5835686274509804, zero: 48.0\n",
      "[255   0  48 146 167 252 191  74   2 198 206 236 209 119 130 253  12  31\n",
      "  15  74]\n",
      "\n",
      "Symmetric scale: 0.9503937007874016\n",
      "[127 -30   0  60  73 125  88  16 -29  92  97 116  99  44  51 126 -22 -11\n",
      " -20  16]\n"
     ]
    }
   ],
   "source": [
    "(asymmetric_q, asymmetric_scale, asymmetric_zero) = asymmetric_quantization(params, 8)\n",
    "(symmetric_q, symmetric_scale)                    = symmetric_quantization(params, 8)\n",
    "\n",
    "print(f'Original:')\n",
    "print(np.round(params, 2))\n",
    "print('')\n",
    "print(f'Asymmetric scale: {asymmetric_scale}, zero: {asymmetric_zero}')\n",
    "print(asymmetric_q)\n",
    "print('')\n",
    "print(f'Symmetric scale: {symmetric_scale}')\n",
    "print(symmetric_q)"
   ]
  },
  {
   "cell_type": "markdown",
   "id": "0649f00c",
   "metadata": {
    "papermill": {
     "duration": 0.002418,
     "end_time": "2024-12-02T16:22:41.201540",
     "exception": false,
     "start_time": "2024-12-02T16:22:41.199122",
     "status": "completed"
    },
    "tags": []
   },
   "source": [
    "## Step 3 : Dequantize them back"
   ]
  },
  {
   "cell_type": "code",
   "execution_count": 4,
   "id": "1f720efe",
   "metadata": {
    "execution": {
     "iopub.execute_input": "2024-12-02T16:22:41.208618Z",
     "iopub.status.busy": "2024-12-02T16:22:41.207865Z",
     "iopub.status.idle": "2024-12-02T16:22:41.214975Z",
     "shell.execute_reply": "2024-12-02T16:22:41.213974Z"
    },
    "papermill": {
     "duration": 0.013723,
     "end_time": "2024-12-02T16:22:41.217834",
     "exception": false,
     "start_time": "2024-12-02T16:22:41.204111",
     "status": "completed"
    },
    "tags": []
   },
   "outputs": [
    {
     "name": "stdout",
     "output_type": "stream",
     "text": [
      "Original:\n",
      "[120.7  -28.11   0.    57.36  69.31 118.77  83.29  15.46 -27.11  87.43\n",
      "  92.15 109.84  93.99  41.57  48.05 119.7  -20.97 -10.14 -19.4   15.34]\n",
      "\n",
      "Dequantize Asymmetric:\n",
      "[120.8  -28.01   0.    57.19  69.44 119.05  83.45  15.17 -26.84  87.54\n",
      "  92.2  109.71  93.95  41.43  47.85 119.63 -21.01  -9.92 -19.26  15.17]\n",
      "\n",
      "Dequantize Symmetric:\n",
      "[120.7  -28.51   0.    57.02  69.38 118.8   83.63  15.21 -27.56  87.44\n",
      "  92.19 110.25  94.09  41.82  48.47 119.75 -20.91 -10.45 -19.01  15.21]\n"
     ]
    }
   ],
   "source": [
    "# Dequantize the parameters back to 32 bits\n",
    "params_deq_asymmetric = asymmetric_dequantize(asymmetric_q, asymmetric_scale, asymmetric_zero)\n",
    "params_deq_symmetric  = symmetric_dequantize(symmetric_q, symmetric_scale)\n",
    "\n",
    "print(f'Original:')\n",
    "print(np.round(params, 2))\n",
    "print('')\n",
    "print(f'Dequantize Asymmetric:')\n",
    "print(np.round(params_deq_asymmetric,2))\n",
    "print('')\n",
    "print(f'Dequantize Symmetric:')\n",
    "print(np.round(params_deq_symmetric, 2))"
   ]
  },
  {
   "cell_type": "markdown",
   "id": "ffd2d4e6",
   "metadata": {
    "papermill": {
     "duration": 0.002593,
     "end_time": "2024-12-02T16:22:41.223230",
     "exception": false,
     "start_time": "2024-12-02T16:22:41.220637",
     "status": "completed"
    },
    "tags": []
   },
   "source": [
    "## Step 4 : Quantization error"
   ]
  },
  {
   "cell_type": "code",
   "execution_count": 5,
   "id": "3146243f",
   "metadata": {
    "execution": {
     "iopub.execute_input": "2024-12-02T16:22:41.230380Z",
     "iopub.status.busy": "2024-12-02T16:22:41.229607Z",
     "iopub.status.idle": "2024-12-02T16:22:41.235160Z",
     "shell.execute_reply": "2024-12-02T16:22:41.234156Z"
    },
    "papermill": {
     "duration": 0.011919,
     "end_time": "2024-12-02T16:22:41.237844",
     "exception": false,
     "start_time": "2024-12-02T16:22:41.225925",
     "status": "completed"
    },
    "tags": []
   },
   "outputs": [
    {
     "name": "stdout",
     "output_type": "stream",
     "text": [
      "  Asymmetric error: 0.03\n",
      "   Symmetric error: 0.07\n"
     ]
    }
   ],
   "source": [
    "# Calculate the quantization error\n",
    "print(f'{\"Asymmetric error: \":>20}{np.round(quantization_error(params, params_deq_asymmetric), 2)}')\n",
    "print(f'{\"Symmetric error: \":>20}{np.round(quantization_error(params, params_deq_symmetric), 2)}')"
   ]
  },
  {
   "cell_type": "code",
   "execution_count": null,
   "id": "80bbfb1d",
   "metadata": {
    "papermill": {
     "duration": 0.00267,
     "end_time": "2024-12-02T16:22:41.243439",
     "exception": false,
     "start_time": "2024-12-02T16:22:41.240769",
     "status": "completed"
    },
    "tags": []
   },
   "outputs": [],
   "source": []
  }
 ],
 "metadata": {
  "kaggle": {
   "accelerator": "none",
   "dataSources": [
    {
     "databundleVersionId": 10033515,
     "sourceId": 84969,
     "sourceType": "competition"
    }
   ],
   "dockerImageVersionId": 30786,
   "isGpuEnabled": false,
   "isInternetEnabled": true,
   "language": "python",
   "sourceType": "notebook"
  },
  "kernelspec": {
   "display_name": "Python 3",
   "language": "python",
   "name": "python3"
  },
  "language_info": {
   "codemirror_mode": {
    "name": "ipython",
    "version": 3
   },
   "file_extension": ".py",
   "mimetype": "text/x-python",
   "name": "python",
   "nbconvert_exporter": "python",
   "pygments_lexer": "ipython3",
   "version": "3.10.14"
  },
  "papermill": {
   "default_parameters": {},
   "duration": 3.142082,
   "end_time": "2024-12-02T16:22:41.566136",
   "environment_variables": {},
   "exception": null,
   "input_path": "__notebook__.ipynb",
   "output_path": "__notebook__.ipynb",
   "parameters": {},
   "start_time": "2024-12-02T16:22:38.424054",
   "version": "2.6.0"
  }
 },
 "nbformat": 4,
 "nbformat_minor": 5
}
